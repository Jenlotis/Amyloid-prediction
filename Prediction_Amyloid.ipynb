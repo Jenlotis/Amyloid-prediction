{
  "cells": [
    {
      "cell_type": "markdown",
      "source": [
        "# Loading libraries"
      ],
      "metadata": {
        "id": "yAF01VZKIMYD"
      }
    },
    {
      "cell_type": "code",
      "execution_count": null,
      "metadata": {
        "id": "uunec69P49IJ"
      },
      "outputs": [],
      "source": [
        "import numpy as np\n",
        "from sklearn.decomposition import PCA\n",
        "from sklearn.decomposition import KernelPCA\n",
        "from sklearn.manifold import TSNE\n",
        "from sklearn.linear_model import LogisticRegressionCV\n",
        "from sklearn.model_selection import train_test_split\n",
        "from sklearn.metrics import confusion_matrix\n",
        "from sklearn.metrics import roc_auc_score\n",
        "from sklearn.metrics import accuracy_score\n",
        "from sklearn.model_selection import KFold\n",
        "from sklearn.model_selection import cross_val_score\n",
        "from sklearn.feature_selection import SelectFromModel\n",
        "from sklearn.pipeline import Pipeline\n",
        "from sklearn.ensemble import RandomForestClassifier\n",
        "from sklearn.naive_bayes import GaussianNB\n",
        "from sklearn.svm import LinearSVC\n",
        "import matplotlib.pyplot as plt\n",
        "import heapq\n",
        "import statistics as stat\n",
        "import matplotlib.pyplot as plt"
      ]
    },
    {
      "cell_type": "markdown",
      "metadata": {
        "id": "E8qOggE6F_Dh"
      },
      "source": [
        "# Loading and preparing the data"
      ]
    },
    {
      "cell_type": "markdown",
      "source": [
        "Dataset is comosed of two smaller dataset consisting of 382 non amyloid and 165 amyloid amino acid sequences from [iAMY by Shoombuatong](https://github.com/Shoombuatong/Dataset-Code/tree/master/iAMY)"
      ],
      "metadata": {
        "id": "viK5jZxIdLZD"
      }
    },
    {
      "cell_type": "markdown",
      "source": [
        "checking the lengths of the sequences"
      ],
      "metadata": {
        "id": "Ok3viuLxJS-U"
      }
    },
    {
      "cell_type": "code",
      "execution_count": null,
      "metadata": {
        "id": "bDE4-sDvIPCs",
        "colab": {
          "base_uri": "https://localhost:8080/",
          "height": 211
        },
        "outputId": "97e49490-6ea6-474f-c4a1-e576d2ed66ba"
      },
      "outputs": [
        {
          "output_type": "error",
          "ename": "FileNotFoundError",
          "evalue": "[Errno 2] No such file or directory: 'neg_382.fasta'",
          "traceback": [
            "\u001b[0;31m---------------------------------------------------------------------------\u001b[0m",
            "\u001b[0;31mFileNotFoundError\u001b[0m                         Traceback (most recent call last)",
            "\u001b[0;32m<ipython-input-3-c42092ffb8eb>\u001b[0m in \u001b[0;36m<cell line: 2>\u001b[0;34m()\u001b[0m\n\u001b[1;32m      1\u001b[0m \u001b[0mlista\u001b[0m\u001b[0;34m=\u001b[0m\u001b[0;34m[\u001b[0m\u001b[0;34m]\u001b[0m\u001b[0;34m\u001b[0m\u001b[0;34m\u001b[0m\u001b[0m\n\u001b[0;32m----> 2\u001b[0;31m \u001b[0;32mwith\u001b[0m \u001b[0mopen\u001b[0m\u001b[0;34m(\u001b[0m\u001b[0;34m\"neg_382.fasta\"\u001b[0m\u001b[0;34m)\u001b[0m \u001b[0;32mas\u001b[0m \u001b[0mfile\u001b[0m\u001b[0;34m:\u001b[0m\u001b[0;34m\u001b[0m\u001b[0;34m\u001b[0m\u001b[0m\n\u001b[0m\u001b[1;32m      3\u001b[0m   \u001b[0;32mfor\u001b[0m \u001b[0mline\u001b[0m \u001b[0;32min\u001b[0m \u001b[0mfile\u001b[0m\u001b[0;34m:\u001b[0m\u001b[0;34m\u001b[0m\u001b[0;34m\u001b[0m\u001b[0m\n\u001b[1;32m      4\u001b[0m     \u001b[0;32mif\u001b[0m \u001b[0mline\u001b[0m\u001b[0;34m[\u001b[0m\u001b[0;36m0\u001b[0m\u001b[0;34m]\u001b[0m \u001b[0;34m!=\u001b[0m \u001b[0;34m\">\"\u001b[0m\u001b[0;34m:\u001b[0m\u001b[0;34m\u001b[0m\u001b[0;34m\u001b[0m\u001b[0m\n\u001b[1;32m      5\u001b[0m       \u001b[0;32mif\u001b[0m \u001b[0mlen\u001b[0m\u001b[0;34m(\u001b[0m\u001b[0mline\u001b[0m\u001b[0;34m)\u001b[0m\u001b[0;34m!=\u001b[0m\u001b[0;36m1\u001b[0m\u001b[0;34m:\u001b[0m\u001b[0;34m\u001b[0m\u001b[0;34m\u001b[0m\u001b[0m\n",
            "\u001b[0;31mFileNotFoundError\u001b[0m: [Errno 2] No such file or directory: 'neg_382.fasta'"
          ]
        }
      ],
      "source": [
        "lista=[]\n",
        "with open(\"neg_382.fasta\") as file:\n",
        "  for line in file:\n",
        "    if line[0] != \">\":\n",
        "      if len(line)!=1:\n",
        "        lista.append(len(line))\n",
        "print(stat.mean(lista))\n",
        "plt.hist(lista, bins=50)"
      ]
    },
    {
      "cell_type": "markdown",
      "source": [
        "Both datasets were embeded using bio_embeddings library and ProtBERT modell, there is no code here to do it bc we where not able to install necessary library in colab so one person from the scientific circle did it on both files and send them to us"
      ],
      "metadata": {
        "id": "qTJXAonsQOj6"
      }
    },
    {
      "cell_type": "markdown",
      "source": [
        "loading the embeddings of the sequences"
      ],
      "metadata": {
        "id": "SLobT-dUIwyW"
      }
    },
    {
      "cell_type": "code",
      "execution_count": null,
      "metadata": {
        "id": "vQghjICV4eI6"
      },
      "outputs": [],
      "source": [
        "x=np.load(\"pos_165_out.fasta_embeddings_average.npy\")\n",
        "y=np.load('negsort_382_embeddings_average.npy')"
      ]
    },
    {
      "cell_type": "markdown",
      "source": [
        "checking the size of the data"
      ],
      "metadata": {
        "id": "OkGjcMjkP3K8"
      }
    },
    {
      "cell_type": "code",
      "execution_count": null,
      "metadata": {
        "id": "tZhMWKE4685v",
        "colab": {
          "base_uri": "https://localhost:8080/"
        },
        "outputId": "b7c35ac1-ffa7-44ac-d13e-85493b4e0d89"
      },
      "outputs": [
        {
          "output_type": "execute_result",
          "data": {
            "text/plain": [
              "1024"
            ]
          },
          "metadata": {},
          "execution_count": 6
        }
      ],
      "source": [
        "len(x[1])"
      ]
    },
    {
      "cell_type": "code",
      "execution_count": null,
      "metadata": {
        "id": "6DltAbtX6_Tf",
        "colab": {
          "base_uri": "https://localhost:8080/"
        },
        "outputId": "811e72bb-7195-47cd-c442-2508645ffe9d"
      },
      "outputs": [
        {
          "output_type": "execute_result",
          "data": {
            "text/plain": [
              "382"
            ]
          },
          "metadata": {},
          "execution_count": 7
        }
      ],
      "source": [
        "len(y)"
      ]
    },
    {
      "cell_type": "markdown",
      "source": [
        "connecting data together"
      ],
      "metadata": {
        "id": "nijCEIwnP6-k"
      }
    },
    {
      "cell_type": "code",
      "execution_count": null,
      "metadata": {
        "id": "6_75RuId7YqC"
      },
      "outputs": [],
      "source": [
        "X=np.concatenate([x,y])"
      ]
    },
    {
      "cell_type": "code",
      "execution_count": null,
      "metadata": {
        "id": "1-kxFi1x8lob",
        "colab": {
          "base_uri": "https://localhost:8080/"
        },
        "outputId": "4e815aa8-0aac-46eb-9a63-23bef80ee149"
      },
      "outputs": [
        {
          "output_type": "execute_result",
          "data": {
            "text/plain": [
              "(547, 1024)"
            ]
          },
          "metadata": {},
          "execution_count": 9
        }
      ],
      "source": [
        "X.shape"
      ]
    },
    {
      "cell_type": "code",
      "execution_count": null,
      "metadata": {
        "id": "XJ1CeVKkMM6J",
        "colab": {
          "base_uri": "https://localhost:8080/"
        },
        "outputId": "28c8c1ff-61c7-4b65-9279-6c9f334c5290"
      },
      "outputs": [
        {
          "output_type": "stream",
          "name": "stdout",
          "text": [
            "[[-0.01432396 -0.00492704 -0.02172679 ... -0.0195791  -0.01738617\n",
            "  -0.01570779]\n",
            " [ 0.02833587  0.01791854  0.01226625 ...  0.00831862 -0.0302144\n",
            "  -0.01001014]\n",
            " [-0.01513111  0.00165476  0.03002553 ... -0.03047759 -0.04506639\n",
            "  -0.00716214]\n",
            " ...\n",
            " [-0.02760653  0.00470324 -0.01899403 ...  0.012042   -0.00923451\n",
            "   0.02577054]\n",
            " [ 0.00036867 -0.01074212  0.03724996 ...  0.03304831 -0.06553621\n",
            "  -0.01296646]\n",
            " [ 0.03303393  0.01590843 -0.01312991 ... -0.01728503 -0.01890557\n",
            "  -0.01459188]]\n"
          ]
        }
      ],
      "source": [
        "print(X)"
      ]
    },
    {
      "cell_type": "code",
      "execution_count": null,
      "metadata": {
        "id": "aZnt_PsF8v1Z"
      },
      "outputs": [],
      "source": [
        "Y=list(np.ones(165)) + list(np.zeros(382))"
      ]
    },
    {
      "cell_type": "code",
      "execution_count": null,
      "metadata": {
        "id": "DWEKE8jY-iB0",
        "colab": {
          "base_uri": "https://localhost:8080/"
        },
        "outputId": "95d67a9d-5729-4f11-c980-fcd3c79fb423"
      },
      "outputs": [
        {
          "output_type": "execute_result",
          "data": {
            "text/plain": [
              "547"
            ]
          },
          "metadata": {},
          "execution_count": 12
        }
      ],
      "source": [
        "len(Y)"
      ]
    },
    {
      "cell_type": "markdown",
      "source": [
        "# PCA"
      ],
      "metadata": {
        "id": "6R3JQdWNc04p"
      }
    },
    {
      "cell_type": "markdown",
      "source": [
        "Doing PCA for first 10 components and checking how well they explain variance in data"
      ],
      "metadata": {
        "id": "3agNkhMFKd0-"
      }
    },
    {
      "cell_type": "code",
      "execution_count": null,
      "metadata": {
        "id": "CXfnl53XASkI",
        "colab": {
          "base_uri": "https://localhost:8080/"
        },
        "outputId": "a4af488e-369a-4990-ae0a-7a70ed833a77"
      },
      "outputs": [
        {
          "output_type": "execute_result",
          "data": {
            "text/plain": [
              "array([0.24171114, 0.13030788, 0.0834544 , 0.06111797, 0.04512985,\n",
              "       0.03721602, 0.02936701, 0.02569015, 0.02288831, 0.02186979])"
            ]
          },
          "metadata": {},
          "execution_count": 13
        }
      ],
      "source": [
        "pca=PCA(n_components=10)\n",
        "pca.fit(X)\n",
        "pca.explained_variance_ratio_"
      ]
    },
    {
      "cell_type": "code",
      "execution_count": null,
      "metadata": {
        "id": "Z-I5xL_VBprP"
      },
      "outputs": [],
      "source": [
        "X2=pca.fit_transform(X)"
      ]
    },
    {
      "cell_type": "markdown",
      "source": [
        "## Checking how well PCA is able to seperate data"
      ],
      "metadata": {
        "id": "WUxMVFrKc6mO"
      }
    },
    {
      "cell_type": "code",
      "execution_count": null,
      "metadata": {
        "id": "kb1Lmiz2CsSx",
        "colab": {
          "base_uri": "https://localhost:8080/",
          "height": 448
        },
        "outputId": "28475f1b-7a2c-4861-e3a5-cf68747c9b42"
      },
      "outputs": [
        {
          "output_type": "execute_result",
          "data": {
            "text/plain": [
              "[<matplotlib.lines.Line2D at 0x795f1a0af520>]"
            ]
          },
          "metadata": {},
          "execution_count": 15
        },
        {
          "output_type": "display_data",
          "data": {
            "text/plain": [
              "<Figure size 640x480 with 1 Axes>"
            ],
            "image/png": "[encoded data removed]"
          },
          "metadata": {}
        }
      ],
      "source": [
        "plt.plot(X2[:165,0], X2[:165,1], \"o\", color=\"red\")\n",
        "plt.plot(X2[166:,0], X2[166:,1], \"o\", color=\"blue\")"
      ]
    },
    {
      "cell_type": "markdown",
      "source": [
        "not well 🙁"
      ],
      "metadata": {
        "id": "ilWjr3gZmt95"
      }
    },
    {
      "cell_type": "code",
      "execution_count": null,
      "metadata": {
        "id": "XudjJbUwEUWz"
      },
      "outputs": [],
      "source": [
        "K1=pca.components_[0,:]\n",
        "K2=pca.components_[1,:]\n",
        "K3=pca.components_[2,:]\n",
        "K4=pca.components_[3,:]"
      ]
    },
    {
      "cell_type": "code",
      "execution_count": null,
      "metadata": {
        "id": "hs7GEEfjFSLO",
        "colab": {
          "base_uri": "https://localhost:8080/"
        },
        "outputId": "de2796aa-10b6-4767-f1e9-1ff410856de8"
      },
      "outputs": [
        {
          "output_type": "execute_result",
          "data": {
            "text/plain": [
              "261"
            ]
          },
          "metadata": {},
          "execution_count": 17
        }
      ],
      "source": [
        "list(K1).index(max(list(K1)))"
      ]
    },
    {
      "cell_type": "markdown",
      "source": [
        "ten most important variables for PCA"
      ],
      "metadata": {
        "id": "40DsyMYWoM-F"
      }
    },
    {
      "cell_type": "code",
      "execution_count": null,
      "metadata": {
        "id": "mwglLl_-G598",
        "colab": {
          "base_uri": "https://localhost:8080/"
        },
        "outputId": "c7ce76d3-ec89-42a8-afe3-cd12e409d6ac"
      },
      "outputs": [
        {
          "output_type": "execute_result",
          "data": {
            "text/plain": [
              "[261, 899, 419, 19, 900, 75, 797, 741, 339, 456]"
            ]
          },
          "metadata": {},
          "execution_count": 18
        }
      ],
      "source": [
        "heapq.nlargest(10, range(len(K1)), key=K1.__getitem__)"
      ]
    },
    {
      "cell_type": "markdown",
      "metadata": {
        "id": "JrczCi3mF4Ps"
      },
      "source": [
        "# T-Sne"
      ]
    },
    {
      "cell_type": "markdown",
      "source": [
        "trying T-Sne"
      ],
      "metadata": {
        "id": "69klKdCno0VQ"
      }
    },
    {
      "cell_type": "code",
      "execution_count": null,
      "metadata": {
        "id": "op9DZqfQAO8E",
        "colab": {
          "base_uri": "https://localhost:8080/"
        },
        "outputId": "7d1cdf0b-2308-4f8b-e014-87de44daa011"
      },
      "outputs": [
        {
          "output_type": "stream",
          "name": "stdout",
          "text": [
            "TSNE()\n",
            "[[ 18.26056    -8.607357 ]\n",
            " [ 11.8035755 -13.563457 ]\n",
            " [ 14.457539   -7.526923 ]\n",
            " ...\n",
            " [  6.5587916  -5.22086  ]\n",
            " [ 19.248055  -14.288892 ]\n",
            " [-17.095264    5.968648 ]]\n"
          ]
        }
      ],
      "source": [
        "tsne=TSNE(n_components=2)\n",
        "Y_tsne=tsne.fit_transform(X)\n",
        "print(tsne)\n",
        "print(Y_tsne)"
      ]
    },
    {
      "cell_type": "markdown",
      "source": [
        "## Checking how well T-Sne is able to seperate data"
      ],
      "metadata": {
        "id": "VB3OQQN0o8Es"
      }
    },
    {
      "cell_type": "code",
      "execution_count": null,
      "metadata": {
        "id": "EBu77b-QDANj",
        "colab": {
          "base_uri": "https://localhost:8080/",
          "height": 447
        },
        "outputId": "94fbaa62-8ce8-474c-daf7-ad2439b9699f"
      },
      "outputs": [
        {
          "output_type": "execute_result",
          "data": {
            "text/plain": [
              "[<matplotlib.lines.Line2D at 0x795f1b55d3f0>]"
            ]
          },
          "metadata": {},
          "execution_count": 20
        },
        {
          "output_type": "display_data",
          "data": {
            "text/plain": [
              "<Figure size 640x480 with 1 Axes>"
            ],
            "image/png": "[encoded data removed]"
          },
          "metadata": {}
        }
      ],
      "source": [
        "plt.plot(Y_tsne[:165,0], Y_tsne[:165,1], \"o\", color=\"red\")\n",
        "plt.plot(Y_tsne[166:,0], Y_tsne[166:,1], \"o\", color=\"blue\")"
      ]
    },
    {
      "cell_type": "markdown",
      "source": [
        "there is some separation but not enough to be significant"
      ],
      "metadata": {
        "id": "MIvi7alVo_oD"
      }
    },
    {
      "cell_type": "markdown",
      "metadata": {
        "id": "032HCzskGPEw"
      },
      "source": [
        "# KernelPCA"
      ]
    },
    {
      "cell_type": "markdown",
      "source": [
        "trying KernelPCA and at the same time checking how well is able to seperate data"
      ],
      "metadata": {
        "id": "6kTyEjA1tsCC"
      }
    },
    {
      "cell_type": "code",
      "execution_count": null,
      "metadata": {
        "id": "7OeyJFWmGRRR",
        "colab": {
          "base_uri": "https://localhost:8080/",
          "height": 447
        },
        "outputId": "0583040e-a37a-48d9-a294-32900af7298e"
      },
      "outputs": [
        {
          "output_type": "execute_result",
          "data": {
            "text/plain": [
              "[<matplotlib.lines.Line2D at 0x795f1a0be5f0>]"
            ]
          },
          "metadata": {},
          "execution_count": 21
        },
        {
          "output_type": "display_data",
          "data": {
            "text/plain": [
              "<Figure size 640x480 with 1 Axes>"
            ],
            "image/png": "[encoded data removed]"
          },
          "metadata": {}
        }
      ],
      "source": [
        "kpca=KernelPCA(n_components = 2, kernel = \"poly\")\n",
        "kpca.fit(X)\n",
        "Y_kpca=kpca.fit_transform(X)\n",
        "plt.plot(Y_kpca[:165,0], Y_kpca[:165,1], \"o\", color=\"red\")\n",
        "plt.plot(Y_kpca[166:,0], Y_kpca[166:,1], \"o\", color=\"blue\")"
      ]
    },
    {
      "cell_type": "code",
      "execution_count": null,
      "metadata": {
        "id": "NnKSQsQ5IPqU",
        "colab": {
          "base_uri": "https://localhost:8080/",
          "height": 447
        },
        "outputId": "990fcaa8-c48d-40f6-d3b2-493d5c9b33bf"
      },
      "outputs": [
        {
          "output_type": "execute_result",
          "data": {
            "text/plain": [
              "[<matplotlib.lines.Line2D at 0x795f19b29fc0>]"
            ]
          },
          "metadata": {},
          "execution_count": 22
        },
        {
          "output_type": "display_data",
          "data": {
            "text/plain": [
              "<Figure size 640x480 with 1 Axes>"
            ],
            "image/png": "[encoded data removed]"
          },
          "metadata": {}
        }
      ],
      "source": [
        "kpca=KernelPCA(n_components = 2, kernel = \"linear\")\n",
        "kpca.fit(X)\n",
        "Y_kpca=kpca.fit_transform(X)\n",
        "plt.plot(Y_kpca[:165,0], Y_kpca[:165,1], \"o\", color=\"red\")\n",
        "plt.plot(Y_kpca[166:,0], Y_kpca[166:,1], \"o\", color=\"blue\")"
      ]
    },
    {
      "cell_type": "code",
      "execution_count": null,
      "metadata": {
        "id": "KWjIJPkHIi3o",
        "colab": {
          "base_uri": "https://localhost:8080/",
          "height": 447
        },
        "outputId": "55158bab-4d10-4759-930f-2bc769a3d1ae"
      },
      "outputs": [
        {
          "output_type": "execute_result",
          "data": {
            "text/plain": [
              "[<matplotlib.lines.Line2D at 0x795f19b72290>]"
            ]
          },
          "metadata": {},
          "execution_count": 23
        },
        {
          "output_type": "display_data",
          "data": {
            "text/plain": [
              "<Figure size 640x480 with 1 Axes>"
            ],
            "image/png": "[encoded data removed]"
          },
          "metadata": {}
        }
      ],
      "source": [
        "kpca=KernelPCA(n_components = 2, kernel = \"rbf\")\n",
        "kpca.fit(X)\n",
        "Y_kpca=kpca.fit_transform(X)\n",
        "plt.plot(Y_kpca[:165,0], Y_kpca[:165,1], \"o\", color=\"red\")\n",
        "plt.plot(Y_kpca[166:,0], Y_kpca[166:,1], \"o\", color=\"blue\")"
      ]
    },
    {
      "cell_type": "code",
      "execution_count": null,
      "metadata": {
        "id": "tzOcDVnYIjZe",
        "colab": {
          "base_uri": "https://localhost:8080/",
          "height": 447
        },
        "outputId": "c632597e-a2af-4d37-d987-fe70bb9c366b"
      },
      "outputs": [
        {
          "output_type": "execute_result",
          "data": {
            "text/plain": [
              "[<matplotlib.lines.Line2D at 0x795f1bb7b460>]"
            ]
          },
          "metadata": {},
          "execution_count": 24
        },
        {
          "output_type": "display_data",
          "data": {
            "text/plain": [
              "<Figure size 640x480 with 1 Axes>"
            ],
            "image/png": "[encoded data removed]"
          },
          "metadata": {}
        }
      ],
      "source": [
        "kpca=KernelPCA(n_components = 2, kernel = \"sigmoid\")\n",
        "kpca.fit(X)\n",
        "Y_kpca=kpca.fit_transform(X)\n",
        "plt.plot(Y_kpca[:165,0], Y_kpca[:165,1], \"o\", color=\"red\")\n",
        "plt.plot(Y_kpca[166:,0], Y_kpca[166:,1], \"o\", color=\"blue\")"
      ]
    },
    {
      "cell_type": "code",
      "execution_count": null,
      "metadata": {
        "id": "_3IEy3kQIj-s",
        "colab": {
          "base_uri": "https://localhost:8080/",
          "height": 447
        },
        "outputId": "2964fb7b-f127-4e43-c90b-4ba674619266"
      },
      "outputs": [
        {
          "output_type": "execute_result",
          "data": {
            "text/plain": [
              "[<matplotlib.lines.Line2D at 0x795f19038490>]"
            ]
          },
          "metadata": {},
          "execution_count": 25
        },
        {
          "output_type": "display_data",
          "data": {
            "text/plain": [
              "<Figure size 640x480 with 1 Axes>"
            ],
            "image/png": "[encoded data removed]"
          },
          "metadata": {}
        }
      ],
      "source": [
        "kpca=KernelPCA(n_components = 2, kernel = \"cosine\")\n",
        "kpca.fit(X)\n",
        "Y_kpca=kpca.fit_transform(X)\n",
        "plt.plot(Y_kpca[:165,0], Y_kpca[:165,1], \"o\", color=\"red\")\n",
        "plt.plot(Y_kpca[166:,0], Y_kpca[166:,1], \"o\", color=\"blue\")"
      ]
    },
    {
      "cell_type": "code",
      "execution_count": null,
      "metadata": {
        "id": "oCH5PIS7JQmb"
      },
      "outputs": [],
      "source": [
        "kpca=KernelPCA(n_components = 2, kernel = \"precomputed\")\n",
        "#kpca.fit(X)\n",
        "#Y_kpca=kpca.fit_transform(X)\n",
        "#plt.plot(Y_kpca[:165,0], Y_kpca[:165,1], \"o\", color=\"red\")\n",
        "#plt.plot(Y_kpca[166:,0], Y_kpca[166:,1], \"o\", color=\"blue\")"
      ]
    },
    {
      "cell_type": "markdown",
      "source": [
        "not able at all"
      ],
      "metadata": {
        "id": "6rb5wapUtUW3"
      }
    },
    {
      "cell_type": "markdown",
      "metadata": {
        "id": "y8sqhiodJofi"
      },
      "source": [
        "# Logistic regression with penalty"
      ]
    },
    {
      "cell_type": "markdown",
      "source": [
        "chcecking if logistic regression with L1 penalty can differeciate datasets"
      ],
      "metadata": {
        "id": "xD0ceA67wGPG"
      }
    },
    {
      "cell_type": "code",
      "execution_count": null,
      "metadata": {
        "id": "THrqDokmNwQ-"
      },
      "outputs": [],
      "source": [
        "X_trening, X_test, Y_trening, Y_test = train_test_split(X, Y, test_size = 0.3, random_state = 42)"
      ]
    },
    {
      "cell_type": "code",
      "execution_count": null,
      "metadata": {
        "id": "yZAfX5SKJsa1"
      },
      "outputs": [],
      "source": [
        "lr_1 = LogisticRegressionCV(penalty = \"l1\", solver = \"liblinear\")\n",
        "\n",
        "model_lr_1 = lr_1.fit(X_trening, Y_trening)"
      ]
    },
    {
      "cell_type": "code",
      "execution_count": null,
      "metadata": {
        "id": "TOxljV_xSOwA",
        "colab": {
          "base_uri": "https://localhost:8080/"
        },
        "outputId": "0eb813ff-3de5-46f9-8868-392da8205cd6"
      },
      "outputs": [
        {
          "output_type": "execute_result",
          "data": {
            "text/plain": [
              "(165, 1024)"
            ]
          },
          "metadata": {},
          "execution_count": 29
        }
      ],
      "source": [
        "X_test.shape"
      ]
    },
    {
      "cell_type": "code",
      "execution_count": null,
      "metadata": {
        "id": "fjdOLkbbSaKl",
        "colab": {
          "base_uri": "https://localhost:8080/"
        },
        "outputId": "b63c3396-4f33-43a2-91d4-787e01d32b69"
      },
      "outputs": [
        {
          "output_type": "execute_result",
          "data": {
            "text/plain": [
              "165"
            ]
          },
          "metadata": {},
          "execution_count": 30
        }
      ],
      "source": [
        "len(Y_test)"
      ]
    },
    {
      "cell_type": "code",
      "execution_count": null,
      "metadata": {
        "id": "PzGOeYWXR3y3"
      },
      "outputs": [],
      "source": [
        "predict_Y_lr_1=model_lr_1.predict(X_test)"
      ]
    },
    {
      "cell_type": "code",
      "execution_count": null,
      "metadata": {
        "id": "WVfNOXR0S2Qp",
        "colab": {
          "base_uri": "https://localhost:8080/"
        },
        "outputId": "af462cd3-b1c4-4176-eaa2-2b10e5321827"
      },
      "outputs": [
        {
          "output_type": "execute_result",
          "data": {
            "text/plain": [
              "array([[104,   9],\n",
              "       [ 12,  40]])"
            ]
          },
          "metadata": {},
          "execution_count": 32
        }
      ],
      "source": [
        "confusion_matrix(Y_test, predict_Y_lr_1)"
      ]
    },
    {
      "cell_type": "code",
      "execution_count": null,
      "metadata": {
        "id": "kOFOzqrdTuNX",
        "colab": {
          "base_uri": "https://localhost:8080/"
        },
        "outputId": "c06d4aef-c412-420c-99d8-8e384cee8c59"
      },
      "outputs": [
        {
          "output_type": "execute_result",
          "data": {
            "text/plain": [
              "0.844792375765827"
            ]
          },
          "metadata": {},
          "execution_count": 33
        }
      ],
      "source": [
        "roc_auc_score(Y_test, predict_Y_lr_1)"
      ]
    },
    {
      "cell_type": "code",
      "execution_count": null,
      "metadata": {
        "id": "JVPVgjHGUY_v",
        "colab": {
          "base_uri": "https://localhost:8080/"
        },
        "outputId": "d4dc015d-5b17-48db-a326-e8b3945ee1cb"
      },
      "outputs": [
        {
          "output_type": "execute_result",
          "data": {
            "text/plain": [
              "0.8727272727272727"
            ]
          },
          "metadata": {},
          "execution_count": 34
        }
      ],
      "source": [
        "accuracy_score(Y_test, predict_Y_lr_1)"
      ]
    },
    {
      "cell_type": "code",
      "execution_count": null,
      "metadata": {
        "id": "zFX7Ad3lU4dP"
      },
      "outputs": [],
      "source": [
        "kf = KFold()"
      ]
    },
    {
      "cell_type": "code",
      "execution_count": null,
      "metadata": {
        "id": "Exn2eeGkVrNz"
      },
      "outputs": [],
      "source": [
        "acc=[]\n",
        "auc=[]\n",
        "# for i, (Y_train, Y_test) in enumerate(kf.split(X_trening)):\n",
        "acc = cross_val_score(model_lr_1, X, Y, cv=5)\n",
        "# auc = cross_val_score(model_lr_1, X, Y, cv=5, scoring=\"roc_auc_score\")"
      ]
    },
    {
      "cell_type": "code",
      "execution_count": null,
      "metadata": {
        "id": "ky_YTjtcYvIO",
        "colab": {
          "base_uri": "https://localhost:8080/"
        },
        "outputId": "507fa62a-e94b-48dc-90a1-8a65c9f9ce0d"
      },
      "outputs": [
        {
          "output_type": "execute_result",
          "data": {
            "text/plain": [
              "array([0.79090909, 0.85454545, 0.90825688, 0.83486239, 0.88073394])"
            ]
          },
          "metadata": {},
          "execution_count": 37
        }
      ],
      "source": [
        "acc"
      ]
    },
    {
      "cell_type": "markdown",
      "source": [
        "parameters are quite good"
      ],
      "metadata": {
        "id": "pfdO_ucG67Hi"
      }
    },
    {
      "cell_type": "markdown",
      "metadata": {
        "id": "ZvAhIanfNT-g"
      },
      "source": [
        "## Logistic regression with validation"
      ]
    },
    {
      "cell_type": "markdown",
      "metadata": {
        "id": "PTXDbo-8SG_q"
      },
      "source": [
        "### Lasso penalty"
      ]
    },
    {
      "cell_type": "code",
      "execution_count": null,
      "metadata": {
        "id": "UncNAWQJNdWj"
      },
      "outputs": [],
      "source": [
        "X_trening, X_test, Y_trening, Y_test = train_test_split(X, Y, test_size = 0.3)"
      ]
    },
    {
      "cell_type": "code",
      "execution_count": null,
      "metadata": {
        "id": "zAbyTsX0NfsR"
      },
      "outputs": [],
      "source": [
        "X_tren, X_valid, Y_tren, Y_valid = train_test_split(X_trening, Y_trening, test_size = 0.3)"
      ]
    },
    {
      "cell_type": "code",
      "execution_count": null,
      "metadata": {
        "id": "aFDi-z0ZNlXk",
        "colab": {
          "base_uri": "https://localhost:8080/"
        },
        "outputId": "b5604f12-fdcc-4dbc-9d78-0d944cc440a5"
      },
      "outputs": [
        {
          "output_type": "execute_result",
          "data": {
            "text/plain": [
              "array([[72,  8],\n",
              "       [14, 21]])"
            ]
          },
          "metadata": {},
          "execution_count": 40
        }
      ],
      "source": [
        "lrs_1 = LogisticRegressionCV(penalty = \"l1\", solver = \"liblinear\")\n",
        "model_lrs_1 = lrs_1.fit(X_tren, Y_tren)\n",
        "\n",
        "predict_Y_lrs_1=model_lrs_1.predict(X_valid)\n",
        "\n",
        "confusion_matrix(Y_valid, predict_Y_lrs_1)"
      ]
    },
    {
      "cell_type": "code",
      "execution_count": null,
      "metadata": {
        "id": "s6myPY-HOnRD",
        "colab": {
          "base_uri": "https://localhost:8080/"
        },
        "outputId": "dc8cf7d8-0428-454b-bd91-a51acfe83086"
      },
      "outputs": [
        {
          "output_type": "execute_result",
          "data": {
            "text/plain": [
              "0.7500000000000001"
            ]
          },
          "metadata": {},
          "execution_count": 41
        }
      ],
      "source": [
        "roc_auc_score(Y_valid, predict_Y_lrs_1)"
      ]
    },
    {
      "cell_type": "code",
      "execution_count": null,
      "metadata": {
        "id": "IFc-5yfPOo9y",
        "colab": {
          "base_uri": "https://localhost:8080/"
        },
        "outputId": "d573b461-2e0e-4f98-defe-4af59c573a8d"
      },
      "outputs": [
        {
          "output_type": "execute_result",
          "data": {
            "text/plain": [
              "0.808695652173913"
            ]
          },
          "metadata": {},
          "execution_count": 42
        }
      ],
      "source": [
        "accuracy_score(Y_valid, predict_Y_lrs_1)"
      ]
    },
    {
      "cell_type": "markdown",
      "source": [
        "parameters are quite good"
      ],
      "metadata": {
        "id": "UNY_GIfOztMF"
      }
    },
    {
      "cell_type": "markdown",
      "metadata": {
        "id": "nyAhvPDsR7VD"
      },
      "source": [
        "#### checking overfiting"
      ]
    },
    {
      "cell_type": "code",
      "execution_count": null,
      "metadata": {
        "id": "YbzDBcuKQaiy",
        "colab": {
          "base_uri": "https://localhost:8080/"
        },
        "outputId": "09258bb9-b2bd-4ffc-edf9-2691a4fc6c6e"
      },
      "outputs": [
        {
          "output_type": "execute_result",
          "data": {
            "text/plain": [
              "array([[190,   0],\n",
              "       [  0,  77]])"
            ]
          },
          "metadata": {},
          "execution_count": 43
        }
      ],
      "source": [
        "predict_Y_lrs_1=model_lrs_1.predict(X_tren)\n",
        "confusion_matrix(Y_tren, predict_Y_lrs_1)"
      ]
    },
    {
      "cell_type": "code",
      "execution_count": null,
      "metadata": {
        "id": "WqH-9nu1QklT",
        "colab": {
          "base_uri": "https://localhost:8080/"
        },
        "outputId": "e1ac5157-8f7a-46f8-a4e0-cf99ff8ed120"
      },
      "outputs": [
        {
          "output_type": "execute_result",
          "data": {
            "text/plain": [
              "1.0"
            ]
          },
          "metadata": {},
          "execution_count": 44
        }
      ],
      "source": [
        "roc_auc_score(Y_tren, predict_Y_lrs_1)"
      ]
    },
    {
      "cell_type": "code",
      "execution_count": null,
      "metadata": {
        "id": "z51pHGEmQmCc",
        "colab": {
          "base_uri": "https://localhost:8080/"
        },
        "outputId": "ce15396e-6fd3-4941-a919-eda97cef000d"
      },
      "outputs": [
        {
          "output_type": "execute_result",
          "data": {
            "text/plain": [
              "1.0"
            ]
          },
          "metadata": {},
          "execution_count": 45
        }
      ],
      "source": [
        "accuracy_score(Y_tren, predict_Y_lrs_1)"
      ]
    },
    {
      "cell_type": "markdown",
      "source": [
        "1.0, not great"
      ],
      "metadata": {
        "id": "mnfQKnWxy6eN"
      }
    },
    {
      "cell_type": "markdown",
      "metadata": {
        "id": "INjKn0VKSLA5"
      },
      "source": [
        "### Reach peanlty"
      ]
    },
    {
      "cell_type": "code",
      "execution_count": null,
      "metadata": {
        "id": "wcR4c1SwQ4FS",
        "colab": {
          "base_uri": "https://localhost:8080/"
        },
        "outputId": "20b6dafc-36c0-4dc9-c5d8-419404c1839a"
      },
      "outputs": [
        {
          "output_type": "execute_result",
          "data": {
            "text/plain": [
              "array([[77,  3],\n",
              "       [13, 22]])"
            ]
          },
          "metadata": {},
          "execution_count": 46
        }
      ],
      "source": [
        "lrs_2 = LogisticRegressionCV(penalty = \"l2\", solver = \"liblinear\")\n",
        "model_lrs_2 = lrs_2.fit(X_tren, Y_tren)\n",
        "\n",
        "predict_Y_lrs_2=model_lrs_2.predict(X_valid)\n",
        "\n",
        "confusion_matrix(Y_valid, predict_Y_lrs_2)"
      ]
    },
    {
      "cell_type": "code",
      "execution_count": null,
      "metadata": {
        "id": "oFJDjpNlRHU1",
        "colab": {
          "base_uri": "https://localhost:8080/"
        },
        "outputId": "db239450-0e84-4f86-9ef8-cab87756e7f7"
      },
      "outputs": [
        {
          "output_type": "execute_result",
          "data": {
            "text/plain": [
              "0.7955357142857143"
            ]
          },
          "metadata": {},
          "execution_count": 47
        }
      ],
      "source": [
        "roc_auc_score(Y_valid, predict_Y_lrs_2)"
      ]
    },
    {
      "cell_type": "code",
      "execution_count": null,
      "metadata": {
        "id": "g_VyVbrbRJEc",
        "colab": {
          "base_uri": "https://localhost:8080/"
        },
        "outputId": "c957ebc2-9f22-424f-958d-84fdc0002842"
      },
      "outputs": [
        {
          "output_type": "execute_result",
          "data": {
            "text/plain": [
              "0.8608695652173913"
            ]
          },
          "metadata": {},
          "execution_count": 48
        }
      ],
      "source": [
        "accuracy_score(Y_valid, predict_Y_lrs_2)"
      ]
    },
    {
      "cell_type": "markdown",
      "source": [
        "parameters are quite good as well"
      ],
      "metadata": {
        "id": "3tdG5AIg7Z1A"
      }
    },
    {
      "cell_type": "markdown",
      "metadata": {
        "id": "03t83zBASq6F"
      },
      "source": [
        "#### checking overfiting"
      ]
    },
    {
      "cell_type": "code",
      "execution_count": null,
      "metadata": {
        "id": "1_qV-7y0RvFt",
        "colab": {
          "base_uri": "https://localhost:8080/"
        },
        "outputId": "3bca6f65-115d-45a4-c91f-9625e500c79d"
      },
      "outputs": [
        {
          "output_type": "execute_result",
          "data": {
            "text/plain": [
              "array([[190,   0],\n",
              "       [  0,  77]])"
            ]
          },
          "metadata": {},
          "execution_count": 49
        }
      ],
      "source": [
        "predict_Y_lrs_2=model_lrs_2.predict(X_tren)\n",
        "confusion_matrix(Y_tren, predict_Y_lrs_2)"
      ]
    },
    {
      "cell_type": "code",
      "execution_count": null,
      "metadata": {
        "id": "Pl9hm-Z7IE3N",
        "colab": {
          "base_uri": "https://localhost:8080/"
        },
        "outputId": "5de69b2e-aed1-452e-fe26-c4ecedbe4e0f"
      },
      "outputs": [
        {
          "output_type": "execute_result",
          "data": {
            "text/plain": [
              "1.0"
            ]
          },
          "metadata": {},
          "execution_count": 50
        }
      ],
      "source": [
        "roc_auc_score(Y_tren, predict_Y_lrs_2)"
      ]
    },
    {
      "cell_type": "code",
      "execution_count": null,
      "metadata": {
        "id": "akJo2x_FIDn9",
        "colab": {
          "base_uri": "https://localhost:8080/"
        },
        "outputId": "b08c0af0-daf2-465d-e549-f7651e8dedc1"
      },
      "outputs": [
        {
          "output_type": "execute_result",
          "data": {
            "text/plain": [
              "1.0"
            ]
          },
          "metadata": {},
          "execution_count": 51
        }
      ],
      "source": [
        "accuracy_score(Y_tren, predict_Y_lrs_2)"
      ]
    },
    {
      "cell_type": "markdown",
      "source": [
        "1.0, also not great"
      ],
      "metadata": {
        "id": "5MOLi-P-7WYB"
      }
    },
    {
      "cell_type": "markdown",
      "source": [
        "But we may be able to use Logistic regression to select features for Random Forests and Naive Bayes and SVM?"
      ],
      "metadata": {
        "id": "tPLoGuvw7nZR"
      }
    },
    {
      "cell_type": "markdown",
      "metadata": {
        "id": "aQymmq3ESxy0"
      },
      "source": [
        "## Extracting features from logistic regression for Random forests"
      ]
    },
    {
      "cell_type": "code",
      "execution_count": null,
      "metadata": {
        "id": "oBzjJVTdS3KW",
        "colab": {
          "base_uri": "https://localhost:8080/"
        },
        "outputId": "c6015fa9-f7be-45df-869b-e99ceab9ce61"
      },
      "outputs": [
        {
          "output_type": "stream",
          "name": "stdout",
          "text": [
            "0.8426966292134831 10\n",
            "0.8539325842696629 20\n",
            "0.8389513108614233 30\n",
            "0.846441947565543 50\n",
            "0.8314606741573034 100\n",
            "0.8389513108614233 200\n",
            "0.8426966292134831 300\n",
            "0.8314606741573034 500\n"
          ]
        }
      ],
      "source": [
        "for i in [10,20,30,50,100,200,300,500]:\n",
        "  clf = Pipeline([\n",
        "    ('feature_selection', SelectFromModel(LogisticRegressionCV(penalty=\"l1\", solver = \"liblinear\"))),\n",
        "    ('classification', RandomForestClassifier(n_estimators=i, max_depth=2))\n",
        "    ])\n",
        "  print(clf.fit(X_tren, Y_tren).score(X_tren, Y_tren), i)"
      ]
    },
    {
      "cell_type": "code",
      "execution_count": null,
      "metadata": {
        "id": "sH1KjWErWXUC",
        "colab": {
          "base_uri": "https://localhost:8080/"
        },
        "outputId": "81c83749-4d5e-4d45-ebd5-9e84b08c93cc"
      },
      "outputs": [
        {
          "output_type": "stream",
          "name": "stdout",
          "text": [
            "0.8838951310861424 10\n",
            "0.9101123595505618 20\n",
            "0.9101123595505618 30\n",
            "0.9063670411985019 50\n",
            "0.9250936329588015 100\n",
            "0.9288389513108615 200\n",
            "0.9288389513108615 300\n",
            "0.9176029962546817 500\n"
          ]
        }
      ],
      "source": [
        "for i in [10,20,30,50,100,200,300,500]:\n",
        "  clf = Pipeline([\n",
        "    ('feature_selection', SelectFromModel(LogisticRegressionCV(penalty=\"l1\", solver = \"liblinear\"))),\n",
        "    ('classification', RandomForestClassifier(n_estimators=i, max_depth=3))\n",
        "    ])\n",
        "  print(clf.fit(X_tren, Y_tren).score(X_tren, Y_tren), i)"
      ]
    },
    {
      "cell_type": "code",
      "execution_count": null,
      "metadata": {
        "id": "Ml92axpnWdbn",
        "colab": {
          "base_uri": "https://localhost:8080/"
        },
        "outputId": "6eccc58d-d723-4b62-9265-3202de0e49f0"
      },
      "outputs": [
        {
          "output_type": "stream",
          "name": "stdout",
          "text": [
            "0.9325842696629213 10\n",
            "0.9438202247191011 20\n",
            "0.9325842696629213 30\n",
            "0.9625468164794008 50\n",
            "0.947565543071161 100\n",
            "0.9662921348314607 200\n",
            "0.947565543071161 300\n",
            "0.947565543071161 500\n"
          ]
        }
      ],
      "source": [
        "for i in [10,20,30,50,100,200,300,500]:\n",
        "  clf = Pipeline([\n",
        "    ('feature_selection', SelectFromModel(LogisticRegressionCV(penalty=\"l1\", solver = \"liblinear\"))),\n",
        "    ('classification', RandomForestClassifier(n_estimators=i, max_depth=4))\n",
        "    ])\n",
        "  print(clf.fit(X_tren, Y_tren).score(X_tren, Y_tren), i)"
      ]
    },
    {
      "cell_type": "markdown",
      "source": [
        "looks promising"
      ],
      "metadata": {
        "id": "VcMpwakg9n9Y"
      }
    },
    {
      "cell_type": "code",
      "execution_count": null,
      "metadata": {
        "id": "DKxKG5euW4fV"
      },
      "outputs": [],
      "source": [
        "dep_3=[]\n",
        "dep_3_model=[]\n",
        "drzewa=[10,15,20,25,30,35,40,45,50,55,60,70,80,90,100]\n",
        "for i in drzewa:\n",
        "  clf = Pipeline([\n",
        "    ('feature_selection', SelectFromModel(LogisticRegressionCV(penalty=\"l1\", solver = \"liblinear\"))),\n",
        "    ('classification', RandomForestClassifier(n_estimators=i, max_depth=3))\n",
        "    ])\n",
        "  dep_3.append(clf.fit(X_tren, Y_tren).score(X_valid, Y_valid))\n",
        "  dep_3_model.append(clf.fit(X_tren, Y_tren))"
      ]
    },
    {
      "cell_type": "code",
      "execution_count": null,
      "metadata": {
        "id": "ArYt1f_jXNAQ"
      },
      "outputs": [],
      "source": [
        "dep_4=[]\n",
        "dep_4_model=[]\n",
        "for i in drzewa:\n",
        "  clf = Pipeline([\n",
        "    ('feature_selection', SelectFromModel(LogisticRegressionCV(penalty=\"l1\", solver = \"liblinear\"))),\n",
        "    ('classification', RandomForestClassifier(n_estimators=i, max_depth=4))\n",
        "    ])\n",
        "  dep_4.append(clf.fit(X_tren, Y_tren).score(X_valid, Y_valid))\n",
        "  dep_4_model.append(clf.fit(X_tren, Y_tren))"
      ]
    },
    {
      "cell_type": "code",
      "execution_count": null,
      "metadata": {
        "colab": {
          "base_uri": "https://localhost:8080/",
          "height": 447
        },
        "id": "F4KQBDq8XRRI",
        "outputId": "a688f5ff-e65a-44ef-fcaf-428b0f269e46"
      },
      "outputs": [
        {
          "output_type": "execute_result",
          "data": {
            "text/plain": [
              "[<matplotlib.lines.Line2D at 0x795f18dec8b0>]"
            ]
          },
          "metadata": {},
          "execution_count": 57
        },
        {
          "output_type": "display_data",
          "data": {
            "text/plain": [
              "<Figure size 640x480 with 1 Axes>"
            ],
            "image/png": "[encoded data removed]"
          },
          "metadata": {}
        }
      ],
      "source": [
        "plt.plot(drzewa, dep_3, color = \"red\")\n",
        "plt.plot(drzewa, dep_4, color = \"blue\")"
      ]
    },
    {
      "cell_type": "code",
      "execution_count": null,
      "metadata": {
        "id": "0pxTDCLlZiTK"
      },
      "outputs": [],
      "source": [
        "cf_3=[]\n",
        "auc_3=[]\n",
        "acc_3=[]\n",
        "\n",
        "for i in dep_3_model:\n",
        "  predict_Y_rf_3=i.predict(X_valid)\n",
        "  cf_3.append(confusion_matrix(Y_valid, predict_Y_rf_3))\n",
        "  auc_3.append(roc_auc_score(Y_valid, predict_Y_rf_3))\n",
        "  acc_3.append(accuracy_score(Y_valid, predict_Y_rf_3))"
      ]
    },
    {
      "cell_type": "code",
      "execution_count": null,
      "metadata": {
        "id": "_r6YhlyTbXEC"
      },
      "outputs": [],
      "source": [
        "cf_4=[]\n",
        "auc_4=[]\n",
        "acc_4=[]\n",
        "\n",
        "for i in dep_4_model:\n",
        "  predict_Y_rf_4=i.predict(X_valid)\n",
        "  cf_4.append(confusion_matrix(Y_valid, predict_Y_rf_4))\n",
        "  auc_4.append(roc_auc_score(Y_valid, predict_Y_rf_4))\n",
        "  acc_4.append(accuracy_score(Y_valid, predict_Y_rf_4))"
      ]
    },
    {
      "cell_type": "code",
      "execution_count": null,
      "metadata": {
        "colab": {
          "base_uri": "https://localhost:8080/"
        },
        "id": "vX2_YRIOZkdW",
        "outputId": "7a6574a3-ad93-407c-fb3b-a4ebdb3198be"
      },
      "outputs": [
        {
          "output_type": "execute_result",
          "data": {
            "text/plain": [
              "array([[80,  0],\n",
              "       [26,  9]])"
            ]
          },
          "metadata": {},
          "execution_count": 60
        }
      ],
      "source": [
        "cf_3[9]"
      ]
    },
    {
      "cell_type": "code",
      "execution_count": null,
      "metadata": {
        "colab": {
          "base_uri": "https://localhost:8080/"
        },
        "id": "ZQ1LSvYHbPF3",
        "outputId": "dae422d4-385a-46d2-f9ca-b05774655446"
      },
      "outputs": [
        {
          "output_type": "execute_result",
          "data": {
            "text/plain": [
              "array([[79,  1],\n",
              "       [20, 15]])"
            ]
          },
          "metadata": {},
          "execution_count": 61
        }
      ],
      "source": [
        "cf_4[9]"
      ]
    },
    {
      "cell_type": "code",
      "execution_count": null,
      "metadata": {
        "id": "VwbxvF9VcRE_"
      },
      "outputs": [],
      "source": [
        "cf_4_tren=[]\n",
        "auc_4_tren=[]\n",
        "acc_4_tren=[]\n",
        "\n",
        "for i in dep_4_model:\n",
        "  predict_Y_rf_4_tren=i.predict(X_tren)\n",
        "  cf_4_tren.append(confusion_matrix(Y_tren, predict_Y_rf_4_tren))"
      ]
    },
    {
      "cell_type": "code",
      "execution_count": null,
      "metadata": {
        "colab": {
          "base_uri": "https://localhost:8080/"
        },
        "id": "nkOsP5-ZcoBf",
        "outputId": "918c7034-3bca-47d4-9994-a3f08228e7f3"
      },
      "outputs": [
        {
          "output_type": "execute_result",
          "data": {
            "text/plain": [
              "array([[190,   0],\n",
              "       [ 11,  66]])"
            ]
          },
          "metadata": {},
          "execution_count": 63
        }
      ],
      "source": [
        "cf_4_tren[9]"
      ]
    },
    {
      "cell_type": "code",
      "execution_count": null,
      "metadata": {
        "colab": {
          "base_uri": "https://localhost:8080/",
          "height": 448
        },
        "id": "PXiTKNp9Zl9X",
        "outputId": "1e9d276b-c70e-4f4c-9448-42220c4d967b"
      },
      "outputs": [
        {
          "output_type": "execute_result",
          "data": {
            "text/plain": [
              "<matplotlib.legend.Legend at 0x795f18e304c0>"
            ]
          },
          "metadata": {},
          "execution_count": 64
        },
        {
          "output_type": "display_data",
          "data": {
            "text/plain": [
              "<Figure size 640x480 with 1 Axes>"
            ],
            "image/png": "[encoded data removed]"
          },
          "metadata": {}
        }
      ],
      "source": [
        "plt.plot(drzewa, auc_3, color = \"red\")\n",
        "plt.plot(drzewa, auc_4, color = \"blue\")\n",
        "plt.legend([\"dep_3\", \"dep_4\"])"
      ]
    },
    {
      "cell_type": "code",
      "execution_count": null,
      "metadata": {
        "colab": {
          "base_uri": "https://localhost:8080/",
          "height": 448
        },
        "id": "Vxnekpn5bRhV",
        "outputId": "1524ef74-bfd5-4370-ce06-ccd1bda0c503"
      },
      "outputs": [
        {
          "output_type": "execute_result",
          "data": {
            "text/plain": [
              "<matplotlib.legend.Legend at 0x795f18ea3460>"
            ]
          },
          "metadata": {},
          "execution_count": 65
        },
        {
          "output_type": "display_data",
          "data": {
            "text/plain": [
              "<Figure size 640x480 with 1 Axes>"
            ],
            "image/png": "[encoded data removed]"
          },
          "metadata": {}
        }
      ],
      "source": [
        "plt.plot(drzewa, acc_3, color = \"red\")\n",
        "plt.plot(drzewa, acc_4, color = \"blue\")\n",
        "plt.legend([\"dep_3\", \"dep_4\"])"
      ]
    },
    {
      "cell_type": "markdown",
      "metadata": {
        "id": "YswUv51tWx4A"
      },
      "source": [
        "### checking overfiting"
      ]
    },
    {
      "cell_type": "code",
      "execution_count": null,
      "metadata": {
        "colab": {
          "base_uri": "https://localhost:8080/"
        },
        "id": "CHLs9QVET8NG",
        "outputId": "7b8f0692-59ab-4978-a754-37f894f40d96"
      },
      "outputs": [
        {
          "output_type": "execute_result",
          "data": {
            "text/plain": [
              "array([[190,   0],\n",
              "       [ 10,  67]])"
            ]
          },
          "metadata": {},
          "execution_count": 66
        }
      ],
      "source": [
        "predict_Y_rf_clf=clf.predict(X_tren)\n",
        "confusion_matrix(Y_tren, predict_Y_rf_clf)"
      ]
    },
    {
      "cell_type": "code",
      "execution_count": null,
      "metadata": {
        "colab": {
          "base_uri": "https://localhost:8080/"
        },
        "id": "EEvwj5A1UQm9",
        "outputId": "6e48a455-a5cf-42d2-adc9-206b124d3a0b"
      },
      "outputs": [
        {
          "output_type": "execute_result",
          "data": {
            "text/plain": [
              "array([[80,  0],\n",
              "       [23, 12]])"
            ]
          },
          "metadata": {},
          "execution_count": 67
        }
      ],
      "source": [
        "predict_Y_rf_clf=clf.predict(X_valid)\n",
        "confusion_matrix(Y_valid, predict_Y_rf_clf)"
      ]
    },
    {
      "cell_type": "code",
      "execution_count": null,
      "metadata": {
        "colab": {
          "base_uri": "https://localhost:8080/"
        },
        "id": "OaYuzSi2UfmH",
        "outputId": "cf2a286d-4e93-4c25-e5d2-dfc2f7fd3368"
      },
      "outputs": [
        {
          "output_type": "execute_result",
          "data": {
            "text/plain": [
              "0.6714285714285715"
            ]
          },
          "metadata": {},
          "execution_count": 68
        }
      ],
      "source": [
        "roc_auc_score(Y_valid, predict_Y_rf_clf)"
      ]
    },
    {
      "cell_type": "code",
      "execution_count": null,
      "metadata": {
        "colab": {
          "base_uri": "https://localhost:8080/"
        },
        "id": "40Ss3bVYUk2l",
        "outputId": "052d275a-6980-4b83-cf67-50143f02a2ea"
      },
      "outputs": [
        {
          "output_type": "execute_result",
          "data": {
            "text/plain": [
              "0.8"
            ]
          },
          "metadata": {},
          "execution_count": 69
        }
      ],
      "source": [
        "accuracy_score(Y_valid, predict_Y_rf_clf)"
      ]
    },
    {
      "cell_type": "markdown",
      "source": [
        "it's fine"
      ],
      "metadata": {
        "id": "edGiuebr9v4X"
      }
    },
    {
      "cell_type": "markdown",
      "metadata": {
        "id": "EM-i-L6Wd5OZ"
      },
      "source": [
        "## Extracting features from logistic regression for Naive bayes and SVM"
      ]
    },
    {
      "cell_type": "code",
      "execution_count": null,
      "metadata": {
        "colab": {
          "base_uri": "https://localhost:8080/"
        },
        "id": "j6VHIeb0eAFc",
        "outputId": "f6d17a15-544f-42b2-afdd-9a5593e6ef1c"
      },
      "outputs": [
        {
          "output_type": "execute_result",
          "data": {
            "text/plain": [
              "0.8539325842696629"
            ]
          },
          "metadata": {},
          "execution_count": 70
        }
      ],
      "source": [
        "clf = Pipeline([\n",
        "  ('feature_selection', SelectFromModel(LogisticRegressionCV(penalty=\"l1\", solver = \"liblinear\"))),\n",
        "  ('classification', GaussianNB())\n",
        "  ])\n",
        "clf.fit(X_tren, Y_tren)\n",
        "clf.fit(X_tren, Y_tren).score(X_tren, Y_tren)"
      ]
    },
    {
      "cell_type": "code",
      "execution_count": null,
      "metadata": {
        "colab": {
          "base_uri": "https://localhost:8080/"
        },
        "id": "XA3E6fOzf5bn",
        "outputId": "3326cc78-fe64-408d-98ac-ea29be1d31fb"
      },
      "outputs": [
        {
          "output_type": "execute_result",
          "data": {
            "text/plain": [
              "0.808695652173913"
            ]
          },
          "metadata": {},
          "execution_count": 71
        }
      ],
      "source": [
        "clf.fit(X_tren, Y_tren).score(X_valid, Y_valid)"
      ]
    },
    {
      "cell_type": "code",
      "execution_count": null,
      "metadata": {
        "colab": {
          "base_uri": "https://localhost:8080/"
        },
        "id": "BvzI433wgIJ_",
        "outputId": "ce5af596-57c1-42bf-d48c-99a07a362b7d"
      },
      "outputs": [
        {
          "output_type": "execute_result",
          "data": {
            "text/plain": [
              "array([[71,  9],\n",
              "       [13, 22]])"
            ]
          },
          "metadata": {},
          "execution_count": 72
        }
      ],
      "source": [
        "predict_Y_G=clf.predict(X_valid)\n",
        "confusion_matrix(Y_valid, predict_Y_G)"
      ]
    },
    {
      "cell_type": "code",
      "execution_count": null,
      "metadata": {
        "colab": {
          "base_uri": "https://localhost:8080/"
        },
        "id": "1TYlSMNmga98",
        "outputId": "07b24d80-eecc-4e0b-e060-68b3d0350bea"
      },
      "outputs": [
        {
          "output_type": "execute_result",
          "data": {
            "text/plain": [
              "0.7580357142857143"
            ]
          },
          "metadata": {},
          "execution_count": 73
        }
      ],
      "source": [
        "roc_auc_score(Y_valid, predict_Y_G)"
      ]
    },
    {
      "cell_type": "code",
      "execution_count": null,
      "metadata": {
        "colab": {
          "base_uri": "https://localhost:8080/"
        },
        "id": "sztgUj2LgcNA",
        "outputId": "bd04fb7e-6086-45f4-e6c9-8829ba00465c"
      },
      "outputs": [
        {
          "output_type": "execute_result",
          "data": {
            "text/plain": [
              "0.808695652173913"
            ]
          },
          "metadata": {},
          "execution_count": 74
        }
      ],
      "source": [
        "accuracy_score(Y_valid, predict_Y_G)"
      ]
    },
    {
      "cell_type": "code",
      "execution_count": null,
      "metadata": {
        "colab": {
          "base_uri": "https://localhost:8080/"
        },
        "id": "msKNPLRhgoVw",
        "outputId": "9c15382f-c091-42fd-fed4-d10ac9465cae"
      },
      "outputs": [
        {
          "output_type": "execute_result",
          "data": {
            "text/plain": [
              "0.9400749063670412"
            ]
          },
          "metadata": {},
          "execution_count": 75
        }
      ],
      "source": [
        "clf = Pipeline([\n",
        "  ('feature_selection', SelectFromModel(LogisticRegressionCV(penalty=\"l1\", solver = \"liblinear\"))),\n",
        "  ('classification', LinearSVC())\n",
        "  ])\n",
        "clf.fit(X_tren, Y_tren)\n",
        "clf.fit(X_tren, Y_tren).score(X_tren, Y_tren)"
      ]
    },
    {
      "cell_type": "code",
      "execution_count": null,
      "metadata": {
        "colab": {
          "base_uri": "https://localhost:8080/"
        },
        "id": "ylF6XSZlhXF8",
        "outputId": "0372d619-ca70-4ce8-eba1-e1eac94a679e"
      },
      "outputs": [
        {
          "output_type": "execute_result",
          "data": {
            "text/plain": [
              "array([[189,   1],\n",
              "       [ 15,  62]])"
            ]
          },
          "metadata": {},
          "execution_count": 76
        }
      ],
      "source": [
        "predict_Y_G=clf.predict(X_tren)\n",
        "confusion_matrix(Y_tren, predict_Y_G)"
      ]
    },
    {
      "cell_type": "code",
      "execution_count": null,
      "metadata": {
        "colab": {
          "base_uri": "https://localhost:8080/"
        },
        "id": "CLf5zCVhgsNV",
        "outputId": "fc349f6a-2e54-462b-8433-2e0b8af514c2"
      },
      "outputs": [
        {
          "output_type": "execute_result",
          "data": {
            "text/plain": [
              "0.8521739130434782"
            ]
          },
          "metadata": {},
          "execution_count": 77
        }
      ],
      "source": [
        "clf.fit(X_tren, Y_tren).score(X_valid, Y_valid)"
      ]
    },
    {
      "cell_type": "code",
      "execution_count": null,
      "metadata": {
        "colab": {
          "base_uri": "https://localhost:8080/"
        },
        "id": "5796TrOQgtvb",
        "outputId": "f1a92195-1751-4ed9-c849-5784aeaf55c8"
      },
      "outputs": [
        {
          "output_type": "execute_result",
          "data": {
            "text/plain": [
              "array([[76,  4],\n",
              "       [13, 22]])"
            ]
          },
          "metadata": {},
          "execution_count": 78
        }
      ],
      "source": [
        "predict_Y_G=clf.predict(X_valid)\n",
        "confusion_matrix(Y_valid, predict_Y_G)"
      ]
    },
    {
      "cell_type": "code",
      "execution_count": null,
      "metadata": {
        "colab": {
          "base_uri": "https://localhost:8080/"
        },
        "id": "G-U_KCC3gvxh",
        "outputId": "cf750a61-1a0e-4068-e78c-2530e1365cd4"
      },
      "outputs": [
        {
          "output_type": "execute_result",
          "data": {
            "text/plain": [
              "0.7892857142857143"
            ]
          },
          "metadata": {},
          "execution_count": 79
        }
      ],
      "source": [
        "roc_auc_score(Y_valid, predict_Y_G)"
      ]
    },
    {
      "cell_type": "code",
      "execution_count": null,
      "metadata": {
        "colab": {
          "base_uri": "https://localhost:8080/"
        },
        "id": "4jt3fA4Xgxsn",
        "outputId": "40b11c89-adba-46fe-bb56-137f2fdd9fb0"
      },
      "outputs": [
        {
          "output_type": "execute_result",
          "data": {
            "text/plain": [
              "0.8521739130434782"
            ]
          },
          "metadata": {},
          "execution_count": 80
        }
      ],
      "source": [
        "accuracy_score(Y_valid, predict_Y_G)"
      ]
    },
    {
      "cell_type": "markdown",
      "source": [
        "it is also fine"
      ],
      "metadata": {
        "id": "2iVsMUwe93C_"
      }
    }
  ],
  "metadata": {
    "colab": {
      "provenance": [],
      "toc_visible": true
    },
    "kernelspec": {
      "display_name": "Python 3",
      "name": "python3"
    },
    "language_info": {
      "name": "python"
    }
  },
  "nbformat": 4,
  "nbformat_minor": 0
}